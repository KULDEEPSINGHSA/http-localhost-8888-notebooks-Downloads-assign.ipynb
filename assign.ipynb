{
 "cells": [
  {
   "cell_type": "code",
   "execution_count": 2,
   "id": "ea75009c",
   "metadata": {},
   "outputs": [],
   "source": [
    "import numpy as np"
   ]
  },
  {
   "cell_type": "code",
   "execution_count": 14,
   "id": "2d472b8b",
   "metadata": {},
   "outputs": [],
   "source": [
    "import random"
   ]
  },
  {
   "cell_type": "code",
   "execution_count": 1,
   "id": "eca12a41",
   "metadata": {},
   "outputs": [],
   "source": [
    "#Create a code that takes in 2 arrays and tells if they are independent or not"
   ]
  },
  {
   "cell_type": "code",
   "execution_count": null,
   "id": "13be332c",
   "metadata": {},
   "outputs": [],
   "source": [
    "def indie(a,b):\n",
    "    "
   ]
  },
  {
   "cell_type": "code",
   "execution_count": 3,
   "id": "07366c9d",
   "metadata": {},
   "outputs": [],
   "source": [
    "a = [12,13,14,15,12,13,14,12,22,14,30]\n",
    "b = [20,21,22,23,12,13,14,34,12,10,9]\n"
   ]
  },
  {
   "cell_type": "code",
   "execution_count": 4,
   "id": "66862e05",
   "metadata": {},
   "outputs": [],
   "source": [
    "meana = np.mean(a)\n",
    "meanb = np.mean(b)"
   ]
  },
  {
   "cell_type": "code",
   "execution_count": 5,
   "id": "5e5605e8",
   "metadata": {},
   "outputs": [
    {
     "name": "stdout",
     "output_type": "stream",
     "text": [
      "-0.004545454545454933\n"
     ]
    }
   ],
   "source": [
    "sumvara = 0\n",
    "for i in a:\n",
    "    sumvara+=round(i-meana,2)\n",
    "print(sumvara/len(a))\n",
    "    "
   ]
  },
  {
   "cell_type": "code",
   "execution_count": 6,
   "id": "f22c7655",
   "metadata": {},
   "outputs": [
    {
     "name": "stdout",
     "output_type": "stream",
     "text": [
      "0.002727272727273154\n"
     ]
    }
   ],
   "source": [
    "sumvarb = 0\n",
    "for j in b:\n",
    "    sumvarb+=round(j-meanb,2)\n",
    "print(sumvarb/len(b))"
   ]
  },
  {
   "cell_type": "code",
   "execution_count": 7,
   "id": "219d3162",
   "metadata": {},
   "outputs": [],
   "source": [
    "covar = 0\n",
    "for i in range(len(a)):\n",
    "    covar+=a[i]*b[i]\n",
    "covariance = covar/(len(a)+len(b))-meana*meanb\n",
    "print(covariance)"
   ]
  },
  {
   "cell_type": "code",
   "execution_count": null,
   "id": "efba597f",
   "metadata": {},
   "outputs": [],
   "source": []
  }
 ],
 "metadata": {
  "kernelspec": {
   "display_name": "Python 3 (ipykernel)",
   "language": "python",
   "name": "python3"
  },
  "language_info": {
   "codemirror_mode": {
    "name": "ipython",
    "version": 3
   },
   "file_extension": ".py",
   "mimetype": "text/x-python",
   "name": "python",
   "nbconvert_exporter": "python",
   "pygments_lexer": "ipython3",
   "version": "3.9.12"
  }
 },
 "nbformat": 4,
 "nbformat_minor": 5
}
