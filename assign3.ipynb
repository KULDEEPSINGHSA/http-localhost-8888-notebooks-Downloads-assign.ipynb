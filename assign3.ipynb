{
 "cells": [
  {
   "cell_type": "code",
   "execution_count": 1,
   "id": "ea75009c",
   "metadata": {},
   "outputs": [],
   "source": [
    "import numpy as np"
   ]
  },
  {
   "cell_type": "code",
   "execution_count": null,
   "id": "b5072220",
   "metadata": {},
   "outputs": [],
   "source": []
  },
  {
   "cell_type": "code",
   "execution_count": 2,
   "id": "2d472b8b",
   "metadata": {},
   "outputs": [],
   "source": [
    "import random"
   ]
  },
  {
   "cell_type": "code",
   "execution_count": 3,
   "id": "eca12a41",
   "metadata": {},
   "outputs": [],
   "source": [
    "#Create a code that takes in 2 arrays and tells if they are independent or not"
   ]
  },
  {
   "cell_type": "code",
   "execution_count": 21,
   "id": "13be332c",
   "metadata": {},
   "outputs": [],
   "source": [
    "def indie(a,b):\n",
    "    a = [12,13,14,15,12,13,14,12,22,14,30]\n",
    "    b = [20,21,22,23,12,13,14,34,12,10,9]\n",
    "    meana = np.mean(a)\n",
    "    meanb = np.mean(b)\n",
    "    sumvara = 0\n",
    "    for i in a:\n",
    "        sumvara+=round(i-meana,2)\n",
    "        print(sumvara/len(a))\n",
    "        sumvarb = 0\n",
    "    for j in b:\n",
    "        sumvarb+=round(j-meanb,2)\n",
    "        print(sumvarb/len(b))\n",
    "        covar = 0\n",
    "    for i in range(len(a)):\n",
    "        covar+=a[i]*b[i]\n",
    "        covariance = covar/(len(a)+len(b))-meana*meanb\n",
    "        if covariance ==0:\n",
    "            print(\"Independet\")\n",
    "        else:\n",
    "            print('not Independent')\n",
    "                    \n",
    "                    "
   ]
  },
  {
   "cell_type": "code",
   "execution_count": 22,
   "id": "07366c9d",
   "metadata": {},
   "outputs": [
    {
     "name": "stdout",
     "output_type": "stream",
     "text": [
      "-0.3227272727272727\n",
      "-0.5545454545454546\n",
      "-0.6954545454545454\n",
      "-0.7454545454545454\n",
      "-1.0681818181818181\n",
      "-1.3\n",
      "-1.4409090909090911\n",
      "-1.763636363636364\n",
      "-1.1772727272727275\n",
      "-1.3181818181818186\n",
      "-0.004545454545454933\n",
      "0.24818181818181817\n",
      "0.5872727272727273\n",
      "1.0172727272727273\n",
      "1.5381818181818183\n",
      "1.0590909090909093\n",
      "0.6709090909090911\n",
      "0.37363636363636393\n",
      "1.8945454545454548\n",
      "1.4154545454545457\n",
      "0.754545454545455\n",
      "0.002727272727273154\n",
      "not Independent\n",
      "not Independent\n",
      "not Independent\n",
      "not Independent\n",
      "not Independent\n",
      "not Independent\n",
      "not Independent\n",
      "not Independent\n",
      "not Independent\n",
      "not Independent\n",
      "not Independent\n"
     ]
    }
   ],
   "source": [
    "indie([12,13,14,15,12,13,14,12,22,14,30], [20,21,22,23,12,13,14,34,12,10,9])\n"
   ]
  },
  {
   "cell_type": "code",
   "execution_count": 24,
   "id": "66862e05",
   "metadata": {},
   "outputs": [],
   "source": [
    "BeforeCourse=[44,40,61,52,32,44,70,41,67,72,53,72]\n",
    "AfterCourse=[53,38,69,57,46,39,73,48,73,74,60,78] "
   ]
  },
  {
   "cell_type": "code",
   "execution_count": 25,
   "id": "5e5605e8",
   "metadata": {},
   "outputs": [],
   "source": [
    "a=np.array(BeforeCourse)\n",
    "b=np.array(AfterCourse)"
   ]
  },
  {
   "cell_type": "code",
   "execution_count": 26,
   "id": "a14072e9",
   "metadata": {},
   "outputs": [
    {
     "name": "stdout",
     "output_type": "stream",
     "text": [
      "181.33333333333334 187.5\n"
     ]
    }
   ],
   "source": [
    "print(np.var(BeforeCourse), np.var(AfterCourse))"
   ]
  },
  {
   "cell_type": "code",
   "execution_count": 27,
   "id": "f22c7655",
   "metadata": {},
   "outputs": [
    {
     "data": {
      "text/plain": [
       "Ttest_indResult(statistic=-0.8634779765555026, pvalue=0.39719111822605835)"
      ]
     },
     "execution_count": 27,
     "metadata": {},
     "output_type": "execute_result"
    }
   ],
   "source": [
    "import scipy.stats as stats\n",
    "\n",
    "#perform two sample t-test with equal variances\n",
    "stats.ttest_ind(a=BeforeCourse, b=AfterCourse, equal_var=False)\n"
   ]
  },
  {
   "cell_type": "code",
   "execution_count": 7,
   "id": "219d3162",
   "metadata": {},
   "outputs": [],
   "source": []
  },
  {
   "cell_type": "code",
   "execution_count": null,
   "id": "efba597f",
   "metadata": {},
   "outputs": [],
   "source": []
  }
 ],
 "metadata": {
  "kernelspec": {
   "display_name": "Python 3 (ipykernel)",
   "language": "python",
   "name": "python3"
  },
  "language_info": {
   "codemirror_mode": {
    "name": "ipython",
    "version": 3
   },
   "file_extension": ".py",
   "mimetype": "text/x-python",
   "name": "python",
   "nbconvert_exporter": "python",
   "pygments_lexer": "ipython3",
   "version": "3.9.12"
  }
 },
 "nbformat": 4,
 "nbformat_minor": 5
}
